{
 "cells": [
  {
   "cell_type": "code",
   "execution_count": 3,
   "id": "6969f591-8673-4a0f-bf46-d3492997f20c",
   "metadata": {},
   "outputs": [
    {
     "name": "stdout",
     "output_type": "stream",
     "text": [
      "\n",
      "Before Droping:\n",
      "\n",
      "<class 'pandas.core.frame.DataFrame'>\n",
      "RangeIndex: 418 entries, 0 to 417\n",
      "Data columns (total 12 columns):\n",
      " #   Column       Non-Null Count  Dtype  \n",
      "---  ------       --------------  -----  \n",
      " 0   PassengerId  418 non-null    int64  \n",
      " 1   Survived     418 non-null    int64  \n",
      " 2   Pclass       418 non-null    int64  \n",
      " 3   Name         418 non-null    object \n",
      " 4   Sex          418 non-null    object \n",
      " 5   Age          332 non-null    float64\n",
      " 6   SibSp        418 non-null    int64  \n",
      " 7   Parch        418 non-null    int64  \n",
      " 8   Ticket       418 non-null    object \n",
      " 9   Fare         417 non-null    float64\n",
      " 10  Cabin        91 non-null     object \n",
      " 11  Embarked     418 non-null    object \n",
      "dtypes: float64(2), int64(5), object(5)\n",
      "memory usage: 39.3+ KB\n",
      "\n",
      "\n",
      "After Droping:\n",
      "\n",
      "<class 'pandas.core.frame.DataFrame'>\n",
      "Index: 87 entries, 12 to 414\n",
      "Data columns (total 12 columns):\n",
      " #   Column       Non-Null Count  Dtype  \n",
      "---  ------       --------------  -----  \n",
      " 0   PassengerId  87 non-null     int64  \n",
      " 1   Survived     87 non-null     int64  \n",
      " 2   Pclass       87 non-null     int64  \n",
      " 3   Name         87 non-null     object \n",
      " 4   Sex          87 non-null     object \n",
      " 5   Age          87 non-null     float64\n",
      " 6   SibSp        87 non-null     int64  \n",
      " 7   Parch        87 non-null     int64  \n",
      " 8   Ticket       87 non-null     object \n",
      " 9   Fare         87 non-null     float64\n",
      " 10  Cabin        87 non-null     object \n",
      " 11  Embarked     87 non-null     object \n",
      "dtypes: float64(2), int64(5), object(5)\n",
      "memory usage: 8.8+ KB\n"
     ]
    }
   ],
   "source": [
    "import pandas as p\n",
    "df=p.read_csv(\"tested - Copy.csv\")\n",
    "print(\"\\nBefore Droping:\\n\")\n",
    "df.info()\n",
    "#drops Entier row data if as nan values in any coloumn\n",
    "df=df.dropna()\n",
    "#OR\n",
    "#dp=dp.dropna(axis=0)\n",
    "print('\\n\\nAfter Droping:\\n')\n",
    "df.info()"
   ]
  },
  {
   "cell_type": "code",
   "execution_count": null,
   "id": "184d28f3-8cf0-4989-85d4-c4953daaf33f",
   "metadata": {},
   "outputs": [],
   "source": []
  }
 ],
 "metadata": {
  "kernelspec": {
   "display_name": "Python 3 (ipykernel)",
   "language": "python",
   "name": "python3"
  },
  "language_info": {
   "codemirror_mode": {
    "name": "ipython",
    "version": 3
   },
   "file_extension": ".py",
   "mimetype": "text/x-python",
   "name": "python",
   "nbconvert_exporter": "python",
   "pygments_lexer": "ipython3",
   "version": "3.12.4"
  }
 },
 "nbformat": 4,
 "nbformat_minor": 5
}
