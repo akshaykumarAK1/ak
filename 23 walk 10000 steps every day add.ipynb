{
 "cells": [
  {
   "cell_type": "code",
   "execution_count": 3,
   "id": "9b945107-fcc8-4b3b-8e4b-7fd0f05ed8d7",
   "metadata": {},
   "outputs": [
    {
     "name": "stdout",
     "output_type": "stream",
     "text": [
      "DataFrame:\n",
      "    Day  Steps  +1000 Steps\n",
      "0    1   4335         5335\n",
      "1    2   9552        10552\n",
      "2    3   7332         8332\n",
      "3    4   4504         5504\n",
      "4    5   5335         6335\n",
      "5    6   7552         8552\n",
      "6    7   8332         9332\n",
      "7    8   6504         7504\n",
      "8    9   8965         9965\n",
      "9   10   7689         8689\n",
      "\n",
      "Days on which Steps were >7000:\n",
      " 1     2\n",
      "2     3\n",
      "5     6\n",
      "6     7\n",
      "7     8\n",
      "8     9\n",
      "9    10\n",
      "Name: Day, dtype: int64\n"
     ]
    }
   ],
   "source": [
    "import pandas as p\n",
    "import numpy as n\n",
    "d={\"Day\":[1,2,3,4,5,6,7,8,9,10],\n",
    "\"Steps\":[4335,9552,7332,4504,5335,7552,8332,6504,8965,7689]}\n",
    "dp=p.DataFrame(d)\n",
    "dp[\"+1000 Steps\"]=dp[\"Steps\"]+1000\n",
    "fi=dp[dp[\"+1000 Steps\"]>7000][\"Day\"]\n",
    "print(\"DataFrame:\\n\",dp)\n",
    "print(\"\\nDays on which Steps were >7000:\\n\",fi)"
   ]
  },
  {
   "cell_type": "code",
   "execution_count": null,
   "id": "0634f759-35fd-4528-be79-b1ea70570953",
   "metadata": {},
   "outputs": [],
   "source": []
  }
 ],
 "metadata": {
  "kernelspec": {
   "display_name": "Python 3 (ipykernel)",
   "language": "python",
   "name": "python3"
  },
  "language_info": {
   "codemirror_mode": {
    "name": "ipython",
    "version": 3
   },
   "file_extension": ".py",
   "mimetype": "text/x-python",
   "name": "python",
   "nbconvert_exporter": "python",
   "pygments_lexer": "ipython3",
   "version": "3.12.4"
  }
 },
 "nbformat": 4,
 "nbformat_minor": 5
}
