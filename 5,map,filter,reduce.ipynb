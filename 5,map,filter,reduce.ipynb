{
 "cells": [
  {
   "cell_type": "code",
   "execution_count": 1,
   "id": "045b7a3c-7c43-45ec-a442-2c08268640e4",
   "metadata": {},
   "outputs": [
    {
     "name": "stdout",
     "output_type": "stream",
     "text": [
      "[3600, 64, 49, 25, 1156, 6084]\n",
      "[60, 8, 7, 5, 34, 78]\n",
      "192\n"
     ]
    }
   ],
   "source": [
    "import numpy as n\n",
    "da=[60,20,30]\n",
    "d=n.array(da)\n",
    "from functools import reduce as r\n",
    "print(list(map(lambda num:num**2,d)))\n",
    "print(list(filter(lambda num:num>2,d)))\n",
    "print(r(lambda x,y:x+y,d))"
   ]
  },
  {
   "cell_type": "code",
   "execution_count": null,
   "id": "22cb2cbf-a4ce-44da-9e50-7cc06e3686c8",
   "metadata": {},
   "outputs": [],
   "source": []
  }
 ],
 "metadata": {
  "kernelspec": {
   "display_name": "Python 3 (ipykernel)",
   "language": "python",
   "name": "python3"
  },
  "language_info": {
   "codemirror_mode": {
    "name": "ipython",
    "version": 3
   },
   "file_extension": ".py",
   "mimetype": "text/x-python",
   "name": "python",
   "nbconvert_exporter": "python",
   "pygments_lexer": "ipython3",
   "version": "3.12.4"
  }
 },
 "nbformat": 4,
 "nbformat_minor": 5
}
