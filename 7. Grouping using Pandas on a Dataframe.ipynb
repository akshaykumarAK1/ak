{
 "cells": [
  {
   "cell_type": "code",
   "execution_count": 1,
   "id": "ab5faf5e-f2ea-4777-96c3-47b42d93356f",
   "metadata": {},
   "outputs": [
    {
     "name": "stdout",
     "output_type": "stream",
     "text": [
      "  Course  Fee  Complexity\n",
      "0     PY  300         100\n",
      "1     JV  600          56\n",
      "2   DBMS   21          32\n",
      "3    MMA  350          10\n",
      "4    MMA   67          67\n",
      "\n",
      "         Fee\n",
      "Course     \n",
      "DBMS     21\n",
      "JV      600\n",
      "MMA      67\n",
      "PY      300\n"
     ]
    }
   ],
   "source": [
    "import pandas as p\n",
    "t={\n",
    "'Course':[\"PY\",\"JV\",\"DBMS\",\"MMA\",\"MMA\"],\n",
    "'Fee':[300,600,21,350,67],\n",
    "'Complexity':[100,56,32,10,67]\n",
    "}\n",
    "d=p.DataFrame(t)\n",
    "print(d)\n",
    "c=d.groupby('Course').agg({'Fee':'min'})\n",
    "print(\"\\n\",c)"
   ]
  },
  {
   "cell_type": "code",
   "execution_count": null,
   "id": "c0159ebb-061b-4de4-9055-4e2158a2fdbc",
   "metadata": {},
   "outputs": [],
   "source": []
  },
  {
   "cell_type": "code",
   "execution_count": null,
   "id": "74b94c2e-d9ab-4478-9b32-6386672a4bb2",
   "metadata": {},
   "outputs": [],
   "source": []
  }
 ],
 "metadata": {
  "kernelspec": {
   "display_name": "Python 3 (ipykernel)",
   "language": "python",
   "name": "python3"
  },
  "language_info": {
   "codemirror_mode": {
    "name": "ipython",
    "version": 3
   },
   "file_extension": ".py",
   "mimetype": "text/x-python",
   "name": "python",
   "nbconvert_exporter": "python",
   "pygments_lexer": "ipython3",
   "version": "3.12.4"
  }
 },
 "nbformat": 4,
 "nbformat_minor": 5
}
