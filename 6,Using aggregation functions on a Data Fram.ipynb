{
 "cells": [
  {
   "cell_type": "code",
   "execution_count": 1,
   "id": "148d5753-e84c-4200-b513-e920d4e4686f",
   "metadata": {},
   "outputs": [
    {
     "name": "stdout",
     "output_type": "stream",
     "text": [
      "   Maths  Java  Py\n",
      "0      2     5   6\n",
      "1      4     6   3\n",
      "2      5     7   8\n",
      "\n",
      "            Maths  Java         Py\n",
      "sum     11.000000  18.0  17.000000\n",
      "min      2.000000   5.0   3.000000\n",
      "max      5.000000   7.0   8.000000\n",
      "count    3.000000   3.0   3.000000\n",
      "mean     3.666667   6.0   5.666667\n",
      "median   4.000000   6.0   6.000000\n",
      "std      1.527525   1.0   2.516611\n",
      "size     3.000000   3.0   3.000000\n"
     ]
    }
   ],
   "source": [
    "import pandas as p\n",
    "d=p.DataFrame([[2,5,6],\n",
    "[4,6,3],\n",
    "[5,7,8]],\n",
    "columns=[\"Maths\",\"Java\",\"Py\"])\n",
    "print(d)\n",
    "c=d.agg(['sum','min','max','count','mean','median','std','size',])\n",
    "print()\n",
    "print(c)"
   ]
  },
  {
   "cell_type": "code",
   "execution_count": null,
   "id": "a76238f1-8ab6-40f3-a7f7-f7dfe8902cd3",
   "metadata": {},
   "outputs": [],
   "source": []
  }
 ],
 "metadata": {
  "kernelspec": {
   "display_name": "Python 3 (ipykernel)",
   "language": "python",
   "name": "python3"
  },
  "language_info": {
   "codemirror_mode": {
    "name": "ipython",
    "version": 3
   },
   "file_extension": ".py",
   "mimetype": "text/x-python",
   "name": "python",
   "nbconvert_exporter": "python",
   "pygments_lexer": "ipython3",
   "version": "3.12.4"
  }
 },
 "nbformat": 4,
 "nbformat_minor": 5
}
