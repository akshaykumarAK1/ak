{
 "cells": [
  {
   "cell_type": "code",
   "execution_count": 6,
   "id": "d6842cf1-c742-4795-be95-cc4bc45801f2",
   "metadata": {},
   "outputs": [
    {
     "name": "stdout",
     "output_type": "stream",
     "text": [
      "Hi, Iâ€™m akshaykumar passionate computer science engineering diploma holder.and and andMuch like Akshay Kumar I believe in hard worand determination.My journey in tech has equipped me with skills in programming,\n",
      "Number of sentences: 1\n",
      "\n",
      "Sentence: 1 \n",
      " Hi, Iâ€™m akshaykumar passionate computer science engineering diploma holder.and and andMuch like Akshay Kumar I believe in hard worand determination.My journey in tech has equipped me with skills in programming,\n",
      "\n",
      "Total Words: 32\n",
      "['Hi', ',', 'Iâ€™m', 'akshaykumar', 'passionate', 'computer', 'science', 'engineering', 'diploma', 'holder.and', 'and', 'andMuch', 'like', 'Akshay', 'Kumar', 'I', 'believe', 'in', 'hard', 'worand', 'determination.My', 'journey', 'in', 'tech', 'has', 'equipped', 'me', 'with', 'skills', 'in', 'programming', ',']\n"
     ]
    }
   ],
   "source": [
    "from nltk.tokenize import sent_tokenize \n",
    "from nltk.tokenize import word_tokenize \n",
    "import nltk\n",
    "\n",
    "f=open(\"akshay.txt\") \n",
    "text=f.read() \n",
    "print(text) \n",
    " \n",
    "sent=sent_tokenize(text) \n",
    "print(\"Number of sentences:\",len(sent)) \n",
    "for i in range(len(sent)): \n",
    "    print(\"\\nSentence:\",i+1,\"\\n\",sent[i]) \n",
    " \n",
    "w=word_tokenize(text) \n",
    "print(\"\\nTotal Words:\",len(w)) \n",
    "print(w) "
   ]
  },
  {
   "cell_type": "code",
   "execution_count": 11,
   "id": "c3365f3d-45f8-4a89-acd7-2e707e43ace2",
   "metadata": {},
   "outputs": [
    {
     "name": "stdout",
     "output_type": "stream",
     "text": [
      "sentance 1 \n",
      " Hi, Iâ€™m\n",
      "akshaykumar\n",
      "passionate \n",
      "computer science \n",
      "engineering diploma \n",
      "holder.and and andMuch \n",
      "like Akshay Kumar\n",
      "I believe in hard worand \n",
      "determination.My \n",
      "journey in tech \n",
      "has equipped me with \n",
      "skills in programming,\n",
      "words of sentance 32\n",
      "['Hi, Iâ€™m\\nakshaykumar\\npassionate \\ncomputer science \\nengineering diploma \\nholder.and and andMuch \\nlike Akshay Kumar\\nI believe in hard worand \\ndetermination.My \\njourney in tech \\nhas equipped me with \\nskills in programming,']\n"
     ]
    }
   ],
   "source": [
    "from nltk.tokenize import word_tokenize\n",
    "from nltk.tokenize import sent_tokenize\n",
    "\n",
    "f=open('akshay.txt')\n",
    "text=f.read()\n",
    "w=sent_tokenize(text)\n",
    "for i in range(len(w)):\n",
    "    print('sentance',i+1,'\\n',w[i])\n",
    "t=word_tokenize(text)\n",
    "print ('words of sentance',len(t))\n",
    "print(w)"
   ]
  },
  {
   "cell_type": "code",
   "execution_count": null,
   "id": "b71bdc2f-7d11-49e2-af87-27518c8e6ac4",
   "metadata": {},
   "outputs": [],
   "source": []
  }
 ],
 "metadata": {
  "kernelspec": {
   "display_name": "Python 3 (ipykernel)",
   "language": "python",
   "name": "python3"
  },
  "language_info": {
   "codemirror_mode": {
    "name": "ipython",
    "version": 3
   },
   "file_extension": ".py",
   "mimetype": "text/x-python",
   "name": "python",
   "nbconvert_exporter": "python",
   "pygments_lexer": "ipython3",
   "version": "3.12.4"
  }
 },
 "nbformat": 4,
 "nbformat_minor": 5
}
