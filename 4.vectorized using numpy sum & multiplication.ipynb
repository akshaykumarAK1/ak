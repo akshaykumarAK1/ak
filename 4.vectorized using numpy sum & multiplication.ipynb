{
 "cells": [
  {
   "cell_type": "code",
   "execution_count": 8,
   "id": "19284475-a637-495f-a5f4-cfb99db8cefb",
   "metadata": {},
   "outputs": [
    {
     "name": "stdout",
     "output_type": "stream",
     "text": [
      "20\n",
      "Time taken by vectorized product: 0.015635967254638672\n",
      "20\n",
      "Time taken by iterative multiplication: 0.0\n"
     ]
    }
   ],
   "source": [
    "import numpy as np\n",
    "import time\n",
    "\n",
    "# Define the array\n",
    "np_a = np.array([4, 5, 1])\n",
    "\n",
    "start = time.time()\n",
    "print(np.prod(np_a))\n",
    "end = time.time()\n",
    "print(\"Time taken by vectorized product:\", end - start)\n",
    "\n",
    "start = time.time()\n",
    "total = 1\n",
    "for item in np_a:\n",
    "    total *= item\n",
    "print(total)\n",
    "end = time.time()\n",
    "print(\"Time taken by iterative multiplication:\", end - start)"
   ]
  },
  {
   "cell_type": "code",
   "execution_count": null,
   "id": "dc31ae01-dbdd-487d-8730-801b65540f1e",
   "metadata": {},
   "outputs": [],
   "source": []
  },
  {
   "cell_type": "code",
   "execution_count": null,
   "id": "bc8b3de5-188b-47dc-bacf-b7d2eda10a81",
   "metadata": {},
   "outputs": [],
   "source": []
  }
 ],
 "metadata": {
  "kernelspec": {
   "display_name": "Python 3 (ipykernel)",
   "language": "python",
   "name": "python3"
  },
  "language_info": {
   "codemirror_mode": {
    "name": "ipython",
    "version": 3
   },
   "file_extension": ".py",
   "mimetype": "text/x-python",
   "name": "python",
   "nbconvert_exporter": "python",
   "pygments_lexer": "ipython3",
   "version": "3.12.4"
  }
 },
 "nbformat": 4,
 "nbformat_minor": 5
}
