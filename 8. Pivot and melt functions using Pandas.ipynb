{
 "cells": [
  {
   "cell_type": "code",
   "execution_count": 5,
   "id": "da44b6ae-897b-4869-9703-444ccd532c69",
   "metadata": {},
   "outputs": [
    {
     "name": "stdout",
     "output_type": "stream",
     "text": [
      "  Course  Fee  Complexity\n",
      "0     PY  300         100\n",
      "1     JV  600          56\n",
      "2   DBMS   50          32\n",
      "3    MMA  350          10\n",
      "4    MMA   67          67\n",
      "\n",
      " Course  DBMS    JV   MMA     PY\n",
      "0        NaN   NaN   NaN  100.0\n",
      "1        NaN  56.0   NaN    NaN\n",
      "2       32.0   NaN   NaN    NaN\n",
      "3        NaN   NaN  10.0    NaN\n",
      "4        NaN   NaN  67.0    NaN\n",
      "\n",
      "       variable value\n",
      "0       Course    PY\n",
      "1       Course    JV\n",
      "2       Course  DBMS\n",
      "3       Course   MMA\n",
      "4       Course   MMA\n",
      "5          Fee   300\n",
      "6          Fee   600\n",
      "7          Fee    50\n",
      "8          Fee   350\n",
      "9          Fee    67\n",
      "10  Complexity   100\n",
      "11  Complexity    56\n",
      "12  Complexity    32\n",
      "13  Complexity    10\n",
      "14  Complexity    67\n"
     ]
    }
   ],
   "source": [
    "import pandas as p\n",
    "t={\n",
    "'Course':[\"PY\",\"JV\",\"DBMS\",\"MMA\",\"MMA\"],\n",
    "'Fee':[300,600,50,350,67],\n",
    "'Complexity':[100,56,32,10,67]\n",
    "}\n",
    "d=p.DataFrame(t)\n",
    "print(d)\n",
    "print(\"\\n\",d.pivot(columns='Course',values='Complexity'))\n",
    "print(\"\\n\",d.melt())"
   ]
  },
  {
   "cell_type": "code",
   "execution_count": null,
   "id": "dc555711-3492-4643-a1b6-0df624a1ce04",
   "metadata": {},
   "outputs": [],
   "source": []
  }
 ],
 "metadata": {
  "kernelspec": {
   "display_name": "Python 3 (ipykernel)",
   "language": "python",
   "name": "python3"
  },
  "language_info": {
   "codemirror_mode": {
    "name": "ipython",
    "version": 3
   },
   "file_extension": ".py",
   "mimetype": "text/x-python",
   "name": "python",
   "nbconvert_exporter": "python",
   "pygments_lexer": "ipython3",
   "version": "3.12.4"
  }
 },
 "nbformat": 4,
 "nbformat_minor": 5
}
