{
 "cells": [
  {
   "cell_type": "code",
   "execution_count": 1,
   "id": "e977e8cf-e0bb-49b2-bdf3-5e2c68348ae5",
   "metadata": {},
   "outputs": [
    {
     "name": "stdout",
     "output_type": "stream",
     "text": [
      "Before Replacing:\n",
      "\n",
      " 0    34.5\n",
      "1    47.0\n",
      "2    62.0\n",
      "3    27.0\n",
      "4    22.0\n",
      "5    14.0\n",
      "6    30.0\n",
      "Name: Age, dtype: float64\n",
      "\n",
      "Median of Age Column: 21.0\n",
      "\n",
      "After Replacing with Mean:\n",
      "\n",
      " 0    34.5\n",
      "1    47.0\n",
      "2    62.0\n",
      "3    27.0\n",
      "4    22.0\n",
      "5    14.0\n",
      "6    30.0\n",
      "Name: Age, dtype: float64\n"
     ]
    }
   ],
   "source": [
    "import pandas as p\n",
    "df=p.read_csv(\"tested - Copy.csv\")\n",
    "print(\"Before Replacing:\\n\\n\",df['Age'].head(7))\n",
    "print(\"\\nMode of Age Column:\",df['Age'].mode()[0])\n",
    "dp=df['Age'].fillna(df['Age'].mode())\n",
    "print(\"\\nAfter Replacing with Mean:\\n\\n\",dp.head(7))"
   ]
  },
  {
   "cell_type": "code",
   "execution_count": null,
   "id": "6c5a5d29-985a-4b78-b235-4734dcb5bb01",
   "metadata": {},
   "outputs": [],
   "source": []
  }
 ],
 "metadata": {
  "kernelspec": {
   "display_name": "Python 3 (ipykernel)",
   "language": "python",
   "name": "python3"
  },
  "language_info": {
   "codemirror_mode": {
    "name": "ipython",
    "version": 3
   },
   "file_extension": ".py",
   "mimetype": "text/x-python",
   "name": "python",
   "nbconvert_exporter": "python",
   "pygments_lexer": "ipython3",
   "version": "3.12.4"
  }
 },
 "nbformat": 4,
 "nbformat_minor": 5
}
