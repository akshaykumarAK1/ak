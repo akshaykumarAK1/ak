{
 "cells": [
  {
   "cell_type": "code",
   "execution_count": 1,
   "id": "1eea2b50-ffc1-4f87-b05c-b5e8d6944f12",
   "metadata": {},
   "outputs": [
    {
     "name": "stdout",
     "output_type": "stream",
     "text": [
      "hi, iâ€™m anand biradar\n",
      "a passionate \n",
      "computer science engineering diploma \n",
      "holder.and and and\n",
      "much like akshay kumar,\n",
      "i believe in hard work and\n",
      "determination.\n",
      "my journey in tech has \n",
      "equipped me with skills \n",
      "in programming,\n",
      "\n",
      "Stemming:\n",
      "\n",
      " ['hi', ',', 'iâ€™m', 'anand', 'biradar', 'a', 'passion', 'comput', 'scienc', 'engin', 'diploma', 'holder.and', 'and', 'and', 'much', 'like', 'akshay', 'kumar', ',', 'i', 'believ', 'in', 'hard', 'work', 'and', 'determination.', 'my', 'journey', 'in', 'tech', 'ha', 'equip', 'me', 'with', 'skill', 'in', 'program', ',']\n",
      "\n",
      " Lemmatization:\n",
      "\n",
      " ['hi', ',', 'iâ€™m', 'anand', 'biradar', 'a', 'passionate', 'computer', 'science', 'engineering', 'diploma', 'holder.and', 'and', 'and', 'much', 'like', 'akshay', 'kumar', ',', 'i', 'believe', 'in', 'hard', 'work', 'and', 'determination.', 'my', 'journey', 'in', 'tech', 'ha', 'equipped', 'me', 'with', 'skill', 'in', 'programming', ',']\n"
     ]
    }
   ],
   "source": [
    "import re \n",
    "from nltk.tokenize import word_tokenize \n",
    "import nltk\n",
    "\n",
    "f=open(\"akshay.txt\") \n",
    "text=f.read() \n",
    "text=text.lower() \n",
    " \n",
    "\n",
    "print(text) \n",
    " \n",
    "w=word_tokenize(text,preserve_line=True) \n",
    " \n",
    "from nltk.stem import PorterStemmer \n",
    "ps=PorterStemmer() \n",
    "ps_st=[ps.stem(i) for i in w] \n",
    "print(\"\\nStemming:\\n\\n\",ps_st) \n",
    " \n",
    "from nltk import WordNetLemmatizer \n",
    "wnl=WordNetLemmatizer() \n",
    "lema=[wnl.lemmatize(u) for u in w] \n",
    " \n",
    "print(\"\\n Lemmatization:\\n\\n\",lema) "
   ]
  },
  {
   "cell_type": "code",
   "execution_count": 9,
   "id": "61288678-930d-4390-8d8b-adc6b39b5dd2",
   "metadata": {},
   "outputs": [
    {
     "name": "stdout",
     "output_type": "stream",
     "text": [
      "Hi, Iâ€™m\n",
      "akshaykumar\n",
      "passionate \n",
      "computer science \n",
      "engineering diploma \n",
      "holder.and and andMuch \n",
      "like Akshay Kumar\n",
      "I believe in hard worand \n",
      "determination.My \n",
      "journey in tech \n",
      "has equipped me with \n",
      "skills in programming,\n",
      "stemmer is \n",
      "  ['hi', ',', 'iâ€™m', 'akshaykumar', 'passion', 'comput', 'scienc', 'engin', 'diploma', 'holder.and', 'and', 'andmuch', 'like', 'akshay', 'kumar', 'i', 'believ', 'in', 'hard', 'worand', 'determination.mi', 'journey', 'in', 'tech', 'ha', 'equip', 'me', 'with', 'skill', 'in', 'program', ',']\n",
      "\n",
      " lemmatizer \n",
      " ['Hi', ',', 'Iâ€™m', 'akshaykumar', 'passionate', 'computer', 'science', 'engineering', 'diploma', 'holder.and', 'and', 'andMuch', 'like', 'Akshay', 'Kumar', 'I', 'believe', 'in', 'hard', 'worand', 'determination.My', 'journey', 'in', 'tech', 'ha', 'equipped', 'me', 'with', 'skill', 'in', 'programming', ',']\n"
     ]
    }
   ],
   "source": [
    "from nltk.tokenize import word_tokenize\n",
    "\n",
    "f=open('akshay.txt')\n",
    "text=f.read()\n",
    "w=word_tokenize(text,preserve_line=True)\n",
    "\n",
    "print(text)\n",
    "from nltk.stem import PorterStemmer\n",
    "ps=PorterStemmer()\n",
    "psw=[ps.stem(i) for i in w]\n",
    "print('stemmer is \\n ',psw)\n",
    "\n",
    "from nltk import WordNetLemmatizer\n",
    "wn=WordNetLemmatizer()\n",
    "s=[wn.lemmatize(u) for u in w]\n",
    "print('\\n lemmatizer \\n',s)"
   ]
  },
  {
   "cell_type": "code",
   "execution_count": null,
   "id": "26f56e58-4605-4a47-b52a-664ea2e98847",
   "metadata": {},
   "outputs": [],
   "source": []
  }
 ],
 "metadata": {
  "kernelspec": {
   "display_name": "Python 3 (ipykernel)",
   "language": "python",
   "name": "python3"
  },
  "language_info": {
   "codemirror_mode": {
    "name": "ipython",
    "version": 3
   },
   "file_extension": ".py",
   "mimetype": "text/x-python",
   "name": "python",
   "nbconvert_exporter": "python",
   "pygments_lexer": "ipython3",
   "version": "3.12.4"
  }
 },
 "nbformat": 4,
 "nbformat_minor": 5
}
