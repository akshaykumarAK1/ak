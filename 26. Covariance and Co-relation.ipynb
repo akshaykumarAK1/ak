{
 "cells": [
  {
   "cell_type": "code",
   "execution_count": 1,
   "id": "79eea97e-1c5e-40aa-a2b6-0d5e698d8b1c",
   "metadata": {},
   "outputs": [
    {
     "name": "stdout",
     "output_type": "stream",
     "text": [
      "Covariance:\n",
      "               sepal_length  sepal_width  petal_length  petal_width\n",
      "sepal_length      0.685694    -0.042434      1.274315     0.516271\n",
      "sepal_width      -0.042434     0.189979     -0.329656    -0.121639\n",
      "petal_length      1.274315    -0.329656      3.116278     1.295609\n",
      "petal_width       0.516271    -0.121639      1.295609     0.581006\n",
      "\n",
      "Correlation:\n",
      "               sepal_length  sepal_width  petal_length  petal_width\n",
      "sepal_length      1.000000    -0.117570      0.871754     0.817941\n",
      "sepal_width      -0.117570     1.000000     -0.428440    -0.366126\n",
      "petal_length      0.871754    -0.428440      1.000000     0.962865\n",
      "petal_width       0.817941    -0.366126      0.962865     1.000000\n"
     ]
    }
   ],
   "source": [
    "import pandas as pd\n",
    "from sklearn import datasets\n",
    "\n",
    "# Load the Iris dataset\n",
    "iris = datasets.load_iris()\n",
    "\n",
    "# Create a DataFrame from the dataset\n",
    "df = pd.DataFrame(iris.data, columns=[\"sepal_length\", \"sepal_width\", \"petal_length\", \"petal_width\"])\n",
    "\n",
    "# Add the target variable as a new column\n",
    "df[\"class\"] = iris.target\n",
    "\n",
    "# Compute the covariance matrix of the feature columns\n",
    "cov = df.iloc[:, 0:4].cov()\n",
    "\n",
    "# Compute the correlation matrix of the feature columns\n",
    "cor = df.iloc[:, 0:4].corr()\n",
    "\n",
    "# Print the covariance and correlation matrices\n",
    "print(\"Covariance:\\n\", cov)\n",
    "print(\"\\nCorrelation:\\n\", cor)\n"
   ]
  },
  {
   "cell_type": "code",
   "execution_count": 9,
   "id": "c7edc890-c15f-4998-bbb7-c25230b39291",
   "metadata": {},
   "outputs": [
    {
     "ename": "SyntaxError",
     "evalue": "incomplete input (1425044934.py, line 11)",
     "output_type": "error",
     "traceback": [
      "\u001b[1;36m  Cell \u001b[1;32mIn[9], line 11\u001b[1;36m\u001b[0m\n\u001b[1;33m    print('correlation',cor()\u001b[0m\n\u001b[1;37m                             ^\u001b[0m\n\u001b[1;31mSyntaxError\u001b[0m\u001b[1;31m:\u001b[0m incomplete input\n"
     ]
    }
   ],
   "source": [
    "import pandas as p\n",
    "from sklearn import datasets\n",
    "\n",
    "iris =datasets.load_iris()\n",
    "da=p.DataFrame(iris.data,columns=['sepal_length','sepal_width','petal_length','petal_width'])\n",
    "da['class']=iris.target\n",
    "cov=da.iloc[:,0:4].cov()\n",
    "cor=da.iloc[:,0:4].corr()\n",
    "print('covariance \\n',cov)\n",
    "print()\n",
    "print('correlation',cor()"
   ]
  },
  {
   "cell_type": "code",
   "execution_count": null,
   "id": "96e53cb1-2d81-4973-a2cd-d55c896c3e6b",
   "metadata": {},
   "outputs": [],
   "source": []
  }
 ],
 "metadata": {
  "kernelspec": {
   "display_name": "Python 3 (ipykernel)",
   "language": "python",
   "name": "python3"
  },
  "language_info": {
   "codemirror_mode": {
    "name": "ipython",
    "version": 3
   },
   "file_extension": ".py",
   "mimetype": "text/x-python",
   "name": "python",
   "nbconvert_exporter": "python",
   "pygments_lexer": "ipython3",
   "version": "3.12.4"
  }
 },
 "nbformat": 4,
 "nbformat_minor": 5
}
