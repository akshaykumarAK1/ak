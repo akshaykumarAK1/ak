{
 "cells": [
  {
   "cell_type": "code",
   "execution_count": 3,
   "id": "c8fdff92-efd2-4ef7-9807-cb320a4cbd79",
   "metadata": {},
   "outputs": [
    {
     "name": "stdout",
     "output_type": "stream",
     "text": [
      "Before Replacing:\n",
      "\n",
      " 0    34.5\n",
      "1    47.0\n",
      "2    62.0\n",
      "3    27.0\n",
      "4    22.0\n",
      "5    14.0\n",
      "6    30.0\n",
      "Name: Age, dtype: float64\n",
      "\n",
      "Mean of Age Column: 30.272590361445783\n",
      "\n",
      "After Replacing with Mean:\n",
      "\n",
      " 0    34.5\n",
      "1    47.0\n",
      "2    62.0\n",
      "3    27.0\n",
      "4    22.0\n",
      "5    14.0\n",
      "6    30.0\n",
      "Name: Age, dtype: float64\n"
     ]
    }
   ],
   "source": [
    " import pandas as p\n",
    "df=p.read_csv(\"tested - Copy.csv\") \n",
    " \n",
    "print(\"Before Replacing:\\n\\n\",df['Age'].head(7)) \n",
    " \n",
    "print(\"\\nMean of Age Column:\",df['Age'].mean()) \n",
    " \n",
    "dp=df['Age'].fillna(df['Age'].mean()) \n",
    "print(\"\\nAfter Replacing with Mean:\\n\\n\",dp.head(7)) "
   ]
  },
  {
   "cell_type": "code",
   "execution_count": null,
   "id": "0006d370-9fa6-478f-a325-aa1ebf21ce09",
   "metadata": {},
   "outputs": [],
   "source": []
  }
 ],
 "metadata": {
  "kernelspec": {
   "display_name": "Python 3 (ipykernel)",
   "language": "python",
   "name": "python3"
  },
  "language_info": {
   "codemirror_mode": {
    "name": "ipython",
    "version": 3
   },
   "file_extension": ".py",
   "mimetype": "text/x-python",
   "name": "python",
   "nbconvert_exporter": "python",
   "pygments_lexer": "ipython3",
   "version": "3.12.4"
  }
 },
 "nbformat": 4,
 "nbformat_minor": 5
}
