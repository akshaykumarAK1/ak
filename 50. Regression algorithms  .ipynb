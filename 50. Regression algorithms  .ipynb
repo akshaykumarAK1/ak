{
 "cells": [
  {
   "cell_type": "code",
   "execution_count": 3,
   "id": "5b20ca93-34bd-489d-b8f0-3d08fb5ed952",
   "metadata": {},
   "outputs": [
    {
     "name": "stdout",
     "output_type": "stream",
     "text": [
      "<class 'pandas.core.frame.DataFrame'>\n",
      "RangeIndex: 569 entries, 0 to 568\n",
      "Data columns (total 33 columns):\n",
      " #   Column                   Non-Null Count  Dtype  \n",
      "---  ------                   --------------  -----  \n",
      " 0   id                       569 non-null    int64  \n",
      " 1   diagnosis                569 non-null    object \n",
      " 2   radius_mean              569 non-null    float64\n",
      " 3   texture_mean             569 non-null    float64\n",
      " 4   perimeter_mean           569 non-null    float64\n",
      " 5   area_mean                569 non-null    float64\n",
      " 6   smoothness_mean          569 non-null    float64\n",
      " 7   compactness_mean         569 non-null    float64\n",
      " 8   concavity_mean           569 non-null    float64\n",
      " 9   concave points_mean      569 non-null    float64\n",
      " 10  symmetry_mean            569 non-null    float64\n",
      " 11  fractal_dimension_mean   569 non-null    float64\n",
      " 12  radius_se                569 non-null    float64\n",
      " 13  texture_se               569 non-null    float64\n",
      " 14  perimeter_se             569 non-null    float64\n",
      " 15  area_se                  569 non-null    float64\n",
      " 16  smoothness_se            569 non-null    float64\n",
      " 17  compactness_se           569 non-null    float64\n",
      " 18  concavity_se             569 non-null    float64\n",
      " 19  concave points_se        569 non-null    float64\n",
      " 20  symmetry_se              569 non-null    float64\n",
      " 21  fractal_dimension_se     569 non-null    float64\n",
      " 22  radius_worst             569 non-null    float64\n",
      " 23  texture_worst            569 non-null    float64\n",
      " 24  perimeter_worst          569 non-null    float64\n",
      " 25  area_worst               569 non-null    float64\n",
      " 26  smoothness_worst         569 non-null    float64\n",
      " 27  compactness_worst        569 non-null    float64\n",
      " 28  concavity_worst          569 non-null    float64\n",
      " 29  concave points_worst     569 non-null    float64\n",
      " 30  symmetry_worst           569 non-null    float64\n",
      " 31  fractal_dimension_worst  569 non-null    float64\n",
      " 32  Unnamed: 32              0 non-null      float64\n",
      "dtypes: float64(31), int64(1), object(1)\n",
      "memory usage: 146.8+ KB\n",
      "\n",
      "Accuracy of the model using Decision tree regression algorithm is  0.6984126984126984\n",
      "\n",
      "Accuracy of the model using Random forest regression algorithm is  0.863707671957672\n",
      "\n",
      "Accuracy of the model SVR algorithm is 0.8114302960086686\n"
     ]
    },
    {
     "name": "stderr",
     "output_type": "stream",
     "text": [
      "C:\\Users\\admin\\anaconda3\\Lib\\site-packages\\sklearn\\impute\\_base.py:598: UserWarning: Skipping features without any observed values: ['Unnamed: 32']. At least one non-missing value is needed for imputation with strategy='mean'.\n",
      "  warnings.warn(\n",
      "C:\\Users\\admin\\anaconda3\\Lib\\site-packages\\sklearn\\impute\\_base.py:598: UserWarning: Skipping features without any observed values: ['Unnamed: 32']. At least one non-missing value is needed for imputation with strategy='mean'.\n",
      "  warnings.warn(\n"
     ]
    }
   ],
   "source": [
    "import pandas as p \n",
    "from sklearn.metrics import r2_score \n",
    "from sklearn.model_selection import train_test_split \n",
    " \n",
    "# Breast cancer dataset  \n",
    "data = p.read_csv(\"data.csv\") \n",
    "data.info()\n",
    "data.drop([\"id\"],axis=1,inplace=True) \n",
    "M=data[data.diagnosis==\"M\"] \n",
    "B=data[data.diagnosis==\"B\"] \n",
    "\n",
    "\n",
    "data.diagnosis=[1 if i == \"M\" else 0 for i in data.diagnosis] \n",
    "x=data.drop([\"diagnosis\"],axis=1) \n",
    "y=data.diagnosis.values \n",
    " \n",
    "x_train,x_test,y_train,y_test=train_test_split(x,y,test_size=0.3,random_state=42) \n",
    " \n",
    "from sklearn.tree import DecisionTreeRegressor \n",
    "model=DecisionTreeRegressor() \n",
    "model.fit(x_train,y_train) \n",
    "y_pred=model.predict(x_test) \n",
    " \n",
    "print(\"\\nAccuracy of the model using Decision tree regression algorithm is \",r2_score(y_test,y_pred)) \n",
    " \n",
    "from sklearn.ensemble import RandomForestRegressor \n",
    "model1 = RandomForestRegressor() \n",
    "model1.fit(x_train,y_train) \n",
    "y_pred1 = model1.predict(x_test) \n",
    "print(\"\\nAccuracy of the model using Random forest regression algorithm is \",r2_score(y_test,y_pred1)) \n",
    "\n",
    "from sklearn.impute import SimpleImputer\n",
    "from sklearn.svm import SVR\n",
    "# Impute missing values\n",
    "imputer = SimpleImputer(strategy='mean')  # You can use 'median' or 'most_frequent' as well\n",
    "x_train_imputed = imputer.fit_transform(x_train)\n",
    "x_test_imputed = imputer.transform(x_test)\n",
    "\n",
    "\n",
    "# Train the SVR model\n",
    "model2 = SVR()\n",
    "model2.fit(x_train_imputed, y_train)\n",
    "# Predict and calculate accuracy\n",
    "y_pred2 = model2.predict(x_test_imputed)\n",
    "print('\\nAccuracy of the model SVR algorithm is', r2_score(y_test, y_pred2))"
   ]
  },
  {
   "cell_type": "code",
   "execution_count": 57,
   "id": "8877583c-7508-4cca-840e-5b685f04f168",
   "metadata": {},
   "outputs": [
    {
     "name": "stdout",
     "output_type": "stream",
     "text": [
      "decision tree regression  0.7314391776127926\n"
     ]
    },
    {
     "data": {
      "image/png": "[encoded data removed]",
      "text/plain": [
       "<Figure size 1000x500 with 2 Axes>"
      ]
     },
     "metadata": {},
     "output_type": "display_data"
    },
    {
     "name": "stdout",
     "output_type": "stream",
     "text": [
      "random forest regression 0.832639244852058\n",
      "svc  0.6960245636716225\n"
     ]
    },
    {
     "name": "stderr",
     "output_type": "stream",
     "text": [
      "C:\\Users\\admin\\anaconda3\\Lib\\site-packages\\sklearn\\impute\\_base.py:598: UserWarning: Skipping features without any observed values: ['Unnamed: 32']. At least one non-missing value is needed for imputation with strategy='mean'.\n",
      "  warnings.warn(\n",
      "C:\\Users\\admin\\anaconda3\\Lib\\site-packages\\sklearn\\impute\\_base.py:598: UserWarning: Skipping features without any observed values: ['Unnamed: 32']. At least one non-missing value is needed for imputation with strategy='mean'.\n",
      "  warnings.warn(\n"
     ]
    }
   ],
   "source": [
    "import pandas as p\n",
    "import matplotlib.pyplot as m\n",
    "data=p.read_csv('data.csv')\n",
    "data.drop(['id'],axis=1,inplace=True)\n",
    "M=data[data.diagnosis=='M']\n",
    "B=data[data.diagnosis=='B']\n",
    "\n",
    "data.diagnosis=[1 if i =='M' else 0 for i in data.diagnosis]\n",
    "x=data.drop(['diagnosis'],axis=1)\n",
    "y=data.diagnosis.values\n",
    "from sklearn.metrics import r2_score,confusion_matrix\n",
    "from sklearn.model_selection import train_test_split\n",
    "x_train,x_test,y_train,y_test=train_test_split(x,y,random_state=42,test_size=0.3)\n",
    "\n",
    "import seaborn as s\n",
    "import matplotlib.pyplot as m\n",
    "from sklearn.tree import DecisionTreeRegressor\n",
    "da=DecisionTreeRegressor()\n",
    "da.fit(x_train,y_train)\n",
    "y_pred=da.predict(x_test)\n",
    "print('decision tree regression ',r2_score(y_pred,y_test))\n",
    "cm=confusion_matrix(y_pred,y_test)\n",
    "m.figure(figsize=(10,5))\n",
    "s.heatmap(cm,annot=True)\n",
    "m.show()\n",
    "\n",
    "from sklearn.ensemble import RandomForestRegressor\n",
    "ds=RandomForestRegressor()\n",
    "ds.fit(x_train,y_train)\n",
    "y_pred=ds.predict(x_test)\n",
    "print('random forest regression',r2_score(y_pred,y_test))\n",
    "\n",
    "from sklearn.svm import SVC\n",
    "\n",
    "from sklearn.impute import SimpleImputer\n",
    "impute=SimpleImputer(strategy='mean')\n",
    "y_train_i=impute.fit_transform(x_train)\n",
    "x_test_i=impute.fit_transform(x_test)\n",
    "\n",
    "mod=SVC()\n",
    "mod.fit(y_train_i,y_train)\n",
    "y_pred=mod.predict(x_test_i)\n",
    "print('svc ',r2_score(y_pred,y_test))"
   ]
  },
  {
   "cell_type": "code",
   "execution_count": null,
   "id": "f95fb942-1bfa-4a87-bc4b-805601ba8085",
   "metadata": {},
   "outputs": [],
   "source": []
  }
 ],
 "metadata": {
  "kernelspec": {
   "display_name": "Python 3 (ipykernel)",
   "language": "python",
   "name": "python3"
  },
  "language_info": {
   "codemirror_mode": {
    "name": "ipython",
    "version": 3
   },
   "file_extension": ".py",
   "mimetype": "text/x-python",
   "name": "python",
   "nbconvert_exporter": "python",
   "pygments_lexer": "ipython3",
   "version": "3.12.4"
  }
 },
 "nbformat": 4,
 "nbformat_minor": 5
}
