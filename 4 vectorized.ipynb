{
 "cells": [
  {
   "cell_type": "code",
   "execution_count": 13,
   "id": "0e6928cd-909e-456d-a7ba-b8493f080835",
   "metadata": {},
   "outputs": [
    {
     "name": "stdout",
     "output_type": "stream",
     "text": [
      "20\n",
      "Time taken by vectorized product: 0.0\n",
      "20\n",
      "Time taken by iterative multiplication: 0.0\n"
     ]
    }
   ],
   "source": [
    "import numpy as np\n",
    "import time\n",
    "\n",
    "# Define the array\n",
    "np_a = np.array([4, 5, 1])\n",
    "\n",
    "start = time.time()\n",
    "print(np.prod(np_a))\n",
    "end = time.time()\n",
    "print(\"Time taken by vectorized product:\",start-end)\n",
    "\n",
    "start = time.time()\n",
    "total = 1\n",
    "for item in np_a:\n",
    "    total *= item\n",
    "print(total)\n",
    "end = time.time()\n",
    "print(\"Time taken by iterative multiplication:\", start-end)\n"
   ]
  },
  {
   "cell_type": "code",
   "execution_count": null,
   "id": "e4c8f2e1-63e3-4504-941b-f9980a83f2a7",
   "metadata": {},
   "outputs": [],
   "source": []
  },
  {
   "cell_type": "code",
   "execution_count": null,
   "id": "cad66e92-f0f1-4e20-8212-5919f9fe2aec",
   "metadata": {},
   "outputs": [],
   "source": []
  },
  {
   "cell_type": "code",
   "execution_count": null,
   "id": "a945d52c-caa9-4ebe-9c5c-b4f5332f6d3c",
   "metadata": {},
   "outputs": [],
   "source": []
  },
  {
   "cell_type": "code",
   "execution_count": null,
   "id": "f5679d5f-a72e-4481-8cf7-8ccce9b716a1",
   "metadata": {},
   "outputs": [],
   "source": []
  },
  {
   "cell_type": "code",
   "execution_count": null,
   "id": "670e4cff-8fc7-46f1-9d41-7238f583d944",
   "metadata": {},
   "outputs": [],
   "source": []
  }
 ],
 "metadata": {
  "kernelspec": {
   "display_name": "Python 3 (ipykernel)",
   "language": "python",
   "name": "python3"
  },
  "language_info": {
   "codemirror_mode": {
    "name": "ipython",
    "version": 3
   },
   "file_extension": ".py",
   "mimetype": "text/x-python",
   "name": "python",
   "nbconvert_exporter": "python",
   "pygments_lexer": "ipython3",
   "version": "3.12.4"
  }
 },
 "nbformat": 4,
 "nbformat_minor": 5
}
