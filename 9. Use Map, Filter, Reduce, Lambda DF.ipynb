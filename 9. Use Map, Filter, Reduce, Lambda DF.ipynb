{
 "cells": [
  {
   "cell_type": "code",
   "execution_count": 1,
   "id": "76be3199-a583-4655-bcb1-49d1449b9c41",
   "metadata": {},
   "outputs": [
    {
     "name": "stdout",
     "output_type": "stream",
     "text": [
      "Dataframe:\n",
      "    Numbers Letters\n",
      "0        1       A\n",
      "1        2       B\n",
      "2        3       C\n",
      "3        4       D\n",
      "4        5       E\n",
      "\n",
      "Map for Squaring:\n",
      " 0     1\n",
      "1     4\n",
      "2     9\n",
      "3    16\n",
      "4    25\n",
      "Name: Numbers, dtype: int64\n",
      "\n",
      "Reduce for product:\n",
      " 120\n"
     ]
    }
   ],
   "source": [
    "import pandas as pd\n",
    "from functools import reduce\n",
    "data = {\n",
    "'Numbers': [1, 2, 3, 4, 5],\n",
    "'Letters': ['A', 'B', 'C', 'D', 'E']\n",
    "}\n",
    "df = pd.DataFrame(data)\n",
    "sq=df['Numbers'].map(lambda x: x**2)\n",
    "ev=list(filter(lambda x: x % 2 == 0, df['Numbers']))\n",
    "po = reduce(lambda x, y: x * y, df['Numbers'])\n",
    "print(\"Dataframe:\\n\",df)\n",
    "print(\"\\nMap for Squaring:\\n\",sq)\n",
    "print(\"\\nReduce for product:\\n\", po)"
   ]
  },
  {
   "cell_type": "code",
   "execution_count": null,
   "id": "f156aa02-0ed7-4325-a26a-84108f508897",
   "metadata": {},
   "outputs": [],
   "source": []
  }
 ],
 "metadata": {
  "kernelspec": {
   "display_name": "Python 3 (ipykernel)",
   "language": "python",
   "name": "python3"
  },
  "language_info": {
   "codemirror_mode": {
    "name": "ipython",
    "version": 3
   },
   "file_extension": ".py",
   "mimetype": "text/x-python",
   "name": "python",
   "nbconvert_exporter": "python",
   "pygments_lexer": "ipython3",
   "version": "3.12.4"
  }
 },
 "nbformat": 4,
 "nbformat_minor": 5
}
