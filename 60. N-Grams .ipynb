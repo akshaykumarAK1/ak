{
 "cells": [
  {
   "cell_type": "code",
   "execution_count": 1,
   "id": "b73e5b71-46a2-4b30-ad05-5bbc6d0d48ed",
   "metadata": {},
   "outputs": [
    {
     "name": "stdout",
     "output_type": "stream",
     "text": [
      "Bi-Grams:\n",
      "\n",
      " [('Hi', ','), (',', 'Iâ€™m'), ('Iâ€™m', 'Akshaykumar'), ('Akshaykumar', 'a'), ('a', 'passionate'), ('passionate', 'computer'), ('computer', 'science'), ('science', 'engineering'), ('engineering', 'diploma'), ('diploma', 'holder'), ('holder', '.'), ('.', 'Much'), ('Much', 'like'), ('like', 'Akshay'), ('Akshay', 'Kumar'), ('Kumar', ','), (',', 'I'), ('I', 'believe'), ('believe', 'in'), ('in', 'hard'), ('hard', 'work'), ('work', 'and'), ('and', 'determination'), ('determination', '.'), ('.', 'My'), ('My', 'journey'), ('journey', 'in'), ('in', 'tech'), ('tech', 'has'), ('has', 'equipped'), ('equipped', 'me'), ('me', 'with'), ('with', 'skills'), ('skills', 'in'), ('in', 'programming'), ('programming', ',')]\n",
      "\n",
      "\n",
      "Tri-Grams:\n",
      "\n",
      " [('Hi', ',', 'Iâ€™m'), (',', 'Iâ€™m', 'Akshaykumar'), ('Iâ€™m', 'Akshaykumar', 'a'), ('Akshaykumar', 'a', 'passionate'), ('a', 'passionate', 'computer'), ('passionate', 'computer', 'science'), ('computer', 'science', 'engineering'), ('science', 'engineering', 'diploma'), ('engineering', 'diploma', 'holder'), ('diploma', 'holder', '.'), ('holder', '.', 'Much'), ('.', 'Much', 'like'), ('Much', 'like', 'Akshay'), ('like', 'Akshay', 'Kumar'), ('Akshay', 'Kumar', ','), ('Kumar', ',', 'I'), (',', 'I', 'believe'), ('I', 'believe', 'in'), ('believe', 'in', 'hard'), ('in', 'hard', 'work'), ('hard', 'work', 'and'), ('work', 'and', 'determination'), ('and', 'determination', '.'), ('determination', '.', 'My'), ('.', 'My', 'journey'), ('My', 'journey', 'in'), ('journey', 'in', 'tech'), ('in', 'tech', 'has'), ('tech', 'has', 'equipped'), ('has', 'equipped', 'me'), ('equipped', 'me', 'with'), ('me', 'with', 'skills'), ('with', 'skills', 'in'), ('skills', 'in', 'programming'), ('in', 'programming', ',')]\n"
     ]
    }
   ],
   "source": [
    "from nltk.util import ngrams \n",
    "from nltk.tokenize import word_tokenize \n",
    " \n",
    "f=open(\"akshay.txt\") \n",
    "text=f.read() \n",
    "w=word_tokenize(text) \n",
    " \n",
    "print(\"Bi-Grams:\\n\\n\",list(ngrams(w,2))) \n",
    "print(\"\\n\\nTri-Grams:\\n\\n\",list(ngrams(w,3))) "
   ]
  },
  {
   "cell_type": "code",
   "execution_count": null,
   "id": "0abbc355-9852-44e4-a91a-68ac507591e5",
   "metadata": {},
   "outputs": [],
   "source": []
  },
  {
   "cell_type": "code",
   "execution_count": null,
   "id": "b32a62c8-71e3-4874-98a4-b76c6a5e8f26",
   "metadata": {},
   "outputs": [],
   "source": []
  }
 ],
 "metadata": {
  "kernelspec": {
   "display_name": "Python 3 (ipykernel)",
   "language": "python",
   "name": "python3"
  },
  "language_info": {
   "codemirror_mode": {
    "name": "ipython",
    "version": 3
   },
   "file_extension": ".py",
   "mimetype": "text/x-python",
   "name": "python",
   "nbconvert_exporter": "python",
   "pygments_lexer": "ipython3",
   "version": "3.12.4"
  }
 },
 "nbformat": 4,
 "nbformat_minor": 5
}
