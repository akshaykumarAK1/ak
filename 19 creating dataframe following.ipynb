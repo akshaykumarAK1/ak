{
 "cells": [
  {
   "cell_type": "code",
   "execution_count": 5,
   "id": "8376c986-deef-49c2-9d0b-e4c4ff583ab0",
   "metadata": {},
   "outputs": [
    {
     "name": "stdout",
     "output_type": "stream",
     "text": [
      "Average Salary from ecah dept:\n",
      "                            Salary\n",
      "Dept           Type              \n",
      "Administration Full-Time  15000.0\n",
      "Management     Full-Time  20000.0\n",
      "Technical      Itern       5000.0\n",
      "               Part-Time  10000.0\n",
      "\n",
      "Sum and Mean of:\n",
      "            Total Salary   Mean Salary  Number of Employees\n",
      "Type                                                      \n",
      "Full-Time         50000  16666.666667                    3\n",
      "Itern              5000   5000.000000                    1\n",
      "Part-Time         10000  10000.000000                    1\n",
      "\n",
      "Standard Deviation:\n",
      "                 Salary\n",
      "Type                  \n",
      "Full-Time  5773.502692\n"
     ]
    }
   ],
   "source": [
    "import pandas as p \n",
    " \n",
    "d={ \n",
    "    \"First_name\":[\"Aryan\",\"harsh\",'priya','yash','akash'], \n",
    "    \"Last_name\":[\"Singh\",'b','k','g','k'], \n",
    "    \"Type\":[\"Full-Time\",\"Itern\",\"Full-Time\",\"Part-Time\",\"Full-Time\"], \n",
    "    \"Dept\":[\"Administration\",\"Technical\",\"Administration\",\"Technical\",\"Management\"], \n",
    "    'YoE':[2,3,5,7,6],\"Salary\":[20000,5000,10000,10000,20000] \n",
    "} \n",
    " \n",
    "df=p.DataFrame(d) \n",
    "av=df.pivot_table(index=['Dept', 'Type'], values='Salary', aggfunc='mean') \n",
    "print(\"Average Salary from ecah dept:\\n\",av) \n",
    " \n",
    "sm=df.pivot_table(index=['Type'], values='Salary', aggfunc=['sum', 'mean', \n",
    "'count']) \n",
    "sm.columns=['Total Salary', 'Mean Salary', 'Number of Employees'] \n",
    "print(\"\\nSum and Mean of:\\n\",sm) \n",
    " \n",
    "st=df.pivot_table(values='Salary', index='Type',aggfunc='std') \n",
    "print(\"\\nStandard Deviation:\\n\",st) "
   ]
  },
  {
   "cell_type": "code",
   "execution_count": null,
   "id": "a35683d7-9c16-45dd-be4e-d61e3b69fb4a",
   "metadata": {},
   "outputs": [],
   "source": []
  }
 ],
 "metadata": {
  "kernelspec": {
   "display_name": "Python 3 (ipykernel)",
   "language": "python",
   "name": "python3"
  },
  "language_info": {
   "codemirror_mode": {
    "name": "ipython",
    "version": 3
   },
   "file_extension": ".py",
   "mimetype": "text/x-python",
   "name": "python",
   "nbconvert_exporter": "python",
   "pygments_lexer": "ipython3",
   "version": "3.12.4"
  }
 },
 "nbformat": 4,
 "nbformat_minor": 5
}
