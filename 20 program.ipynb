{
 "cells": [
  {
   "cell_type": "code",
   "execution_count": 1,
   "id": "e0d3407a-992d-4924-80f9-395e68f7b456",
   "metadata": {},
   "outputs": [
    {
     "name": "stdout",
     "output_type": "stream",
     "text": [
      "Series A:\n",
      "0    10\n",
      "1    20\n",
      "2    30\n",
      "3    40\n",
      "4    50\n",
      "dtype: int64\n",
      "\n",
      "Series B:\n",
      "0    40\n",
      "1    50\n",
      "2    60\n",
      "3    70\n",
      "4    80\n",
      "dtype: int64\n",
      "Items not common to both Series:\n",
      "[10, 20, 30, 60, 70, 80]\n",
      "\n",
      "Smallest element in Series A:\n",
      " 10\n",
      "\n",
      "Largest element in Series A:\n",
      " 50\n",
      "\n",
      "Sum of Series B:\n",
      " 300\n",
      "\n",
      "Average of Series A:\n",
      " 30.0\n",
      "\n",
      "Median of Series B:\n",
      " 30.0\n"
     ]
    }
   ],
   "source": [
    "import pandas as pd \n",
    "a = pd.Series([10, 20, 30, 40, 50]) \n",
    "b = pd.Series([40, 50, 60, 70, 80]) \n",
    "print(\"Series A:\") \n",
    "print(a) \n",
    "print(\"\\nSeries B:\") \n",
    "print(b) \n",
    " \n",
    "non_com = a[~a.isin(b)].tolist() + b[~b.isin(a)].tolist() \n",
    "print(\"Items not common to both Series:\") \n",
    "print(non_com) \n",
    " \n",
    "print(\"\\nSmallest element in Series A:\\n\", a.min()) \n",
    "print(\"\\nLargest element in Series A:\\n\",a.max()) \n",
    " \n",
    "print(\"\\nSum of Series B:\\n\", b.sum()) \n",
    "print(\"\\nAverage of Series A:\\n\",a.mean()) \n",
    "print(\"\\nMedian of Series B:\\n\", a.median()) "
   ]
  },
  {
   "cell_type": "code",
   "execution_count": null,
   "id": "e8d73274-3198-4994-b78e-160c86e570f6",
   "metadata": {},
   "outputs": [],
   "source": []
  }
 ],
 "metadata": {
  "kernelspec": {
   "display_name": "Python 3 (ipykernel)",
   "language": "python",
   "name": "python3"
  },
  "language_info": {
   "codemirror_mode": {
    "name": "ipython",
    "version": 3
   },
   "file_extension": ".py",
   "mimetype": "text/x-python",
   "name": "python",
   "nbconvert_exporter": "python",
   "pygments_lexer": "ipython3",
   "version": "3.12.4"
  }
 },
 "nbformat": 4,
 "nbformat_minor": 5
}
