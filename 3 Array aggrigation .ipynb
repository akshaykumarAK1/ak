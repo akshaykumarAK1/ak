{
 "cells": [
  {
   "cell_type": "code",
   "execution_count": 1,
   "id": "d34b2c3a-ea67-4262-9c51-ecce10ecda69",
   "metadata": {},
   "outputs": [
    {
     "name": "stdout",
     "output_type": "stream",
     "text": [
      "\n",
      "An Array: [54 78 32 46 76]\n",
      "\n",
      "Sum: 286\n",
      "Product 471204864\n",
      "Mean: 57.2\n",
      "Standard Deviation: 17.645396000090223\n",
      "Variance 311.36\n",
      "Minimum Value: 32\n",
      "Max: 78\n",
      "Min Index: 2\n",
      "Max Index: 1\n",
      "Median: 54.0\n"
     ]
    }
   ],
   "source": [
    "import numpy as n\n",
    "a=n.array([54,78,32,46,76])\n",
    "print(\"\\nAn Array:\",a)\n",
    "print(\"\\nSum:\",n.sum(a))\n",
    "print(\"Product\",n.prod(a))\n",
    "print(\"Mean:\",n.mean(a))\n",
    "print(\"Standard Deviation:\",n.std(a))\n",
    "print(\"Variance\",n.var(a))\n",
    "print(\"Minimum Value:\",n.min(a))\n",
    "print(\"Max:\",n.max(a))\n",
    "print(\"Min Index:\",n.argmin(a))\n",
    "print(\"Max Index:\",n.argmax(a))\n",
    "print(\"Median:\",n.median(a))\n"
   ]
  },
  {
   "cell_type": "code",
   "execution_count": null,
   "id": "b85d6a21-a70d-4552-90f0-30e8157454f3",
   "metadata": {},
   "outputs": [],
   "source": []
  }
 ],
 "metadata": {
  "kernelspec": {
   "display_name": "Python 3 (ipykernel)",
   "language": "python",
   "name": "python3"
  },
  "language_info": {
   "codemirror_mode": {
    "name": "ipython",
    "version": 3
   },
   "file_extension": ".py",
   "mimetype": "text/x-python",
   "name": "python",
   "nbconvert_exporter": "python",
   "pygments_lexer": "ipython3",
   "version": "3.12.4"
  }
 },
 "nbformat": 4,
 "nbformat_minor": 5
}
