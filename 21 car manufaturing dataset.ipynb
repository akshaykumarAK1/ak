{
 "cells": [
  {
   "cell_type": "code",
   "execution_count": 1,
   "id": "7fefb9fb-f9ca-4aa1-9b21-7fc87700cd4f",
   "metadata": {},
   "outputs": [
    {
     "name": "stdout",
     "output_type": "stream",
     "text": [
      "Satistical:\n",
      "             mpg  cylinders  displacement  horsepower       weigth  \\\n",
      "count   5.00000   5.000000      5.000000    5.000000     5.000000   \n",
      "mean   16.80000   6.800000    316.200000  147.000000  3503.000000   \n",
      "std     1.30384   1.788854     19.879638   13.038405   110.006818   \n",
      "min    15.00000   4.000000    302.000000  130.000000  3433.000000   \n",
      "25%    16.00000   6.000000    304.000000  140.000000  3436.000000   \n",
      "50%    17.00000   8.000000    307.000000  150.000000  3449.000000   \n",
      "75%    18.00000   8.000000    318.000000  150.000000  3504.000000   \n",
      "max    18.00000   8.000000    350.000000  165.000000  3693.000000   \n",
      "\n",
      "       acceleration  model year  origin  \n",
      "count       5.00000     5.00000     5.0  \n",
      "mean       11.40000    72.20000     1.0  \n",
      "std         0.65192     4.38178     0.0  \n",
      "min        10.50000    70.00000     1.0  \n",
      "25%        11.00000    70.00000     1.0  \n",
      "50%        11.50000    70.00000     1.0  \n",
      "75%        12.00000    71.00000     1.0  \n",
      "max        12.00000    80.00000     1.0  \n",
      "\n",
      "8 cylinders:\n",
      "    mpg  cylinders  displacement  horsepower  weigth  acceleration  model year  \\\n",
      "0   18          8           307         130    3504          12.0          70   \n",
      "1   15          8           350         165    3693          11.5          71   \n",
      "4   17          8           302         140    3449          10.5          70   \n",
      "\n",
      "   origin car name  \n",
      "0       1      BMW  \n",
      "1       1    Supra  \n",
      "4       1     Audi  \n",
      "\n",
      "By year:\n",
      " model year\n",
      "70    3\n",
      "71    1\n",
      "80    1\n",
      "Name: model year, dtype: int64\n"
     ]
    }
   ],
   "source": [
    "import pandas as pd\n",
    "da={\n",
    "\"mpg\":[18,15,18,16,17],\"cylinders\":[8,8,6,4,8],\"displacement\":[307,350,318,\n",
    "304,302],\n",
    "\"horsepower\":[130,165,150,150,140],\"weigth\":[3504,3693,3436,3433,3449],\n",
    "\"acceleration\":[12.0,11.5,11.0,12.0,10.5],\"model year\":[70,71,70,80,70],\n",
    "\"origin\":[1,1,1,1,1],\"car name\":[\"BMW\",'Supra','TATA','Beaz','Audi']\n",
    "}\n",
    "df=pd.DataFrame(da)\n",
    "sa=df.describe()\n",
    "ei=df[df[\"cylinders\"]==8]\n",
    "ye = df.groupby('model year')[\"model year\"].count()\n",
    "print(\"Satistical:\\n\",sa)\n",
    "print(\"\\n8 cylinders:\\n\",ei)\n",
    "print(\"\\nBy year:\\n\",ye)"
   ]
  },
  {
   "cell_type": "code",
   "execution_count": null,
   "id": "d257c592-fdd3-4ded-9e0a-05890afe4871",
   "metadata": {},
   "outputs": [],
   "source": []
  }
 ],
 "metadata": {
  "kernelspec": {
   "display_name": "Python 3 (ipykernel)",
   "language": "python",
   "name": "python3"
  },
  "language_info": {
   "codemirror_mode": {
    "name": "ipython",
    "version": 3
   },
   "file_extension": ".py",
   "mimetype": "text/x-python",
   "name": "python",
   "nbconvert_exporter": "python",
   "pygments_lexer": "ipython3",
   "version": "3.12.4"
  }
 },
 "nbformat": 4,
 "nbformat_minor": 5
}
